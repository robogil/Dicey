{
 "cells": [
  {
   "cell_type": "markdown",
   "metadata": {},
   "source": [
    "# Dicey"
   ]
  },
  {
   "cell_type": "code",
   "execution_count": 2,
   "metadata": {
    "collapsed": true
   },
   "outputs": [],
   "source": [
    "import pandas as pd\n",
    "import numpy as np\n",
    "from sklearn.metrics.pairwise import cosine_similarity\n",
    "from bs4 import BeautifulSoup\n",
    "import requests\n",
    "import re\n",
    "import time\n",
    "import pickle\n",
    "pd.options.display.max_seq_items = 2000"
   ]
  },
  {
   "cell_type": "code",
   "execution_count": 3,
   "metadata": {},
   "outputs": [
    {
     "data": {
      "text/plain": [
       "Duel in the Dark                           1\n",
       "Flowerpower                                1\n",
       "...and then, we held hands.                1\n",
       "Advanced European Theater of Operations    1\n",
       "Gettysburg: Badges of Courage              1\n",
       "Name: names, dtype: int64"
      ]
     },
     "execution_count": 3,
     "metadata": {},
     "output_type": "execute_result"
    }
   ],
   "source": [
    "# Set up dataset\n",
    "bgg = pd.read_csv(\"./Cleaned_BGG\")\n",
    "bgg.drop('Unnamed: 0',axis = 1, inplace = True)\n",
    "bgg.drop_duplicates(subset= 'names', inplace= True)\n",
    "bgg['names'].value_counts().head()"
   ]
  },
  {
   "cell_type": "markdown",
   "metadata": {},
   "source": [
    "## Data Collection"
   ]
  },
  {
   "cell_type": "code",
   "execution_count": 4,
   "metadata": {
    "collapsed": true
   },
   "outputs": [],
   "source": [
    "# # #Collect User list\n",
    "# url = \"https://boardgamegeek.com/findgamers.php?action=findclosest&country=US&srczip=07057&maxdist=100&B1=Submit\"\n",
    "# response = requests.get(url)\n",
    "# html = response.text\n",
    "\n",
    "# soup = BeautifulSoup(html, 'lxml')\n",
    "\n",
    "# hrefs = []\n",
    "# for link in soup.find_all('a'):\n",
    "#     hrefs.append(link.get('href'))\n",
    "    \n",
    "# # #Remove Nonetypes\n",
    "# hrefs = filter(None.__ne__, hrefs)\n",
    "# hrefs = list(hrefs)\n",
    "\n",
    "# # # Grab Usernames\n",
    "# usernames = []\n",
    "# for _ in hrefs:\n",
    "#     if re.search('\\/user\\/', _):\n",
    "#         _ = _[6:]\n",
    "#         usernames.append(_)\n",
    "# usernames = list(set(usernames))"
   ]
  },
  {
   "cell_type": "code",
   "execution_count": 5,
   "metadata": {
    "collapsed": true
   },
   "outputs": [],
   "source": [
    "# pickle.dump(usernames, open(\"large_un.p\", \"wb\"))"
   ]
  },
  {
   "cell_type": "code",
   "execution_count": 6,
   "metadata": {
    "collapsed": true
   },
   "outputs": [],
   "source": [
    "# user_choices = {}"
   ]
  },
  {
   "cell_type": "code",
   "execution_count": 7,
   "metadata": {
    "collapsed": true
   },
   "outputs": [],
   "source": [
    "# # Collect User Data\n",
    "# for user in usernames:\n",
    "#     games = []\n",
    "#     res = requests.get('http://www.boardgamegeek.com/xmlapi/collection/'+user+'?minrating=8')\n",
    "#     soup = BeautifulSoup(res.text, \"lxml\")\n",
    "#     for link in soup.find_all('name'):\n",
    "#         game = re.findall(\"(?<=name sortindex=\\\"1\\\">).*(?=</name)\", str(link))\n",
    "#         games.extend(game)\n",
    "#         user_choices.update({user:games})\n",
    "#         time.sleep(2)"
   ]
  },
  {
   "cell_type": "code",
   "execution_count": 8,
   "metadata": {
    "collapsed": true
   },
   "outputs": [],
   "source": [
    "# #Save user choices\n",
    "# pickle.dump(user_choices, open(\"list.p\", \"wb\"))"
   ]
  },
  {
   "cell_type": "markdown",
   "metadata": {},
   "source": [
    "## Cleanup"
   ]
  },
  {
   "cell_type": "code",
   "execution_count": 9,
   "metadata": {
    "collapsed": true
   },
   "outputs": [],
   "source": [
    "# Load user choices\n",
    "user_choices= pickle.load(open(\"gamelist.p\", \"rb\"))"
   ]
  },
  {
   "cell_type": "code",
   "execution_count": 10,
   "metadata": {
    "collapsed": true
   },
   "outputs": [],
   "source": [
    "user_names= pickle.load(open(\"usernames.p\", \"rb\"))"
   ]
  },
  {
   "cell_type": "code",
   "execution_count": 11,
   "metadata": {
    "collapsed": true
   },
   "outputs": [],
   "source": [
    "testlist = []\n",
    "\n",
    "for name in user_choices.keys():\n",
    "    for game in user_choices[name]:\n",
    "        testlist.append(name+'~'+game)"
   ]
  },
  {
   "cell_type": "code",
   "execution_count": 12,
   "metadata": {
    "collapsed": true
   },
   "outputs": [],
   "source": [
    "df_user= []\n",
    "df_game = []\n",
    "for _ in testlist:\n",
    "    user, game= _.split('~')\n",
    "    df_user.append(user)\n",
    "    df_game.append(game)"
   ]
  },
  {
   "cell_type": "markdown",
   "metadata": {
    "collapsed": true
   },
   "source": [
    "## Merge Data"
   ]
  },
  {
   "cell_type": "code",
   "execution_count": 13,
   "metadata": {
    "scrolled": true
   },
   "outputs": [
    {
     "data": {
      "text/html": [
       "<div>\n",
       "<style>\n",
       "    .dataframe thead tr:only-child th {\n",
       "        text-align: right;\n",
       "    }\n",
       "\n",
       "    .dataframe thead th {\n",
       "        text-align: left;\n",
       "    }\n",
       "\n",
       "    .dataframe tbody tr th {\n",
       "        vertical-align: top;\n",
       "    }\n",
       "</style>\n",
       "<table border=\"1\" class=\"dataframe\">\n",
       "  <thead>\n",
       "    <tr style=\"text-align: right;\">\n",
       "      <th></th>\n",
       "      <th>User</th>\n",
       "      <th>Game</th>\n",
       "    </tr>\n",
       "  </thead>\n",
       "  <tbody>\n",
       "    <tr>\n",
       "      <th>0</th>\n",
       "      <td>MSRyanInNYC</td>\n",
       "      <td>Agents of SMERSH</td>\n",
       "    </tr>\n",
       "    <tr>\n",
       "      <th>1</th>\n",
       "      <td>MSRyanInNYC</td>\n",
       "      <td>Batailles de L'Ancien Regime 1740-1763</td>\n",
       "    </tr>\n",
       "    <tr>\n",
       "      <th>2</th>\n",
       "      <td>MSRyanInNYC</td>\n",
       "      <td>Battle Cry: 150th Civil War Anniversary Edition</td>\n",
       "    </tr>\n",
       "    <tr>\n",
       "      <th>3</th>\n",
       "      <td>MSRyanInNYC</td>\n",
       "      <td>Battlegroup</td>\n",
       "    </tr>\n",
       "    <tr>\n",
       "      <th>4</th>\n",
       "      <td>MSRyanInNYC</td>\n",
       "      <td>Battlegroup Overlord</td>\n",
       "    </tr>\n",
       "  </tbody>\n",
       "</table>\n",
       "</div>"
      ],
      "text/plain": [
       "          User                                             Game\n",
       "0  MSRyanInNYC                                 Agents of SMERSH\n",
       "1  MSRyanInNYC           Batailles de L'Ancien Regime 1740-1763\n",
       "2  MSRyanInNYC  Battle Cry: 150th Civil War Anniversary Edition\n",
       "3  MSRyanInNYC                                      Battlegroup\n",
       "4  MSRyanInNYC                             Battlegroup Overlord"
      ]
     },
     "execution_count": 13,
     "metadata": {},
     "output_type": "execute_result"
    }
   ],
   "source": [
    "# Create User listing\n",
    "rec_user = pd.DataFrame({'User':df_user, 'Game': df_game})\n",
    "rec_user = rec_user.reindex(columns = ['User','Game'])\n",
    "rec_user.head()"
   ]
  },
  {
   "cell_type": "code",
   "execution_count": 14,
   "metadata": {
    "collapsed": true
   },
   "outputs": [],
   "source": [
    "# # Safety Test\n",
    "# test = rec_user.copy()\n",
    "# bggtest = bgg.copy()"
   ]
  },
  {
   "cell_type": "code",
   "execution_count": 15,
   "metadata": {
    "collapsed": true
   },
   "outputs": [],
   "source": [
    "#Combine user data with games from main bgg dataframe\n",
    "comp = pd.merge(rec_user, bgg, how= 'inner', left_on= 'Game', right_on='names')"
   ]
  },
  {
   "cell_type": "markdown",
   "metadata": {
    "collapsed": true
   },
   "source": [
    "## Algorithm creation"
   ]
  },
  {
   "cell_type": "code",
   "execution_count": 16,
   "metadata": {
    "collapsed": true
   },
   "outputs": [],
   "source": [
    "ui = \"Pandemic\""
   ]
  },
  {
   "cell_type": "code",
   "execution_count": 17,
   "metadata": {
    "collapsed": true
   },
   "outputs": [],
   "source": [
    "# Set up df index\n",
    "alg_rec = pd.DataFrame([])\n",
    "alg_rec['name'] = bgg['names']\n",
    "alg_rec = alg_rec.set_index('name')"
   ]
  },
  {
   "cell_type": "code",
   "execution_count": 18,
   "metadata": {
    "collapsed": true
   },
   "outputs": [],
   "source": [
    "# User Score\n",
    "users = comp[comp['Game'] == ui ]\n",
    "users = list(users['User'])\n",
    "high_ranked= []\n",
    "\n",
    "for _ in users:\n",
    "    temp = comp[comp['User'] == _]\n",
    "    high_ranked.extend(temp.iloc[:, 1])\n",
    "high_ranked = pd.Series(high_ranked)\n",
    "high_ranked = high_ranked.value_counts()\n",
    "high_ranked = high_ranked * 0.04545453\n",
    "alg_rec['user_score'] = high_ranked\n",
    "alg_rec = alg_rec.fillna(0)"
   ]
  },
  {
   "cell_type": "code",
   "execution_count": 19,
   "metadata": {
    "collapsed": true,
    "scrolled": true
   },
   "outputs": [],
   "source": [
    "# Category Score\n",
    "cat = pd.DataFrame(bgg.iloc[:,3])\n",
    "cat = cat.join(bgg.iloc[:,69:])\n",
    "cat.iloc[215:225,:]\n",
    "target= cat[cat['names'] == ui]\n",
    "cat_scores = []\n",
    "\n",
    "for _ in cat['names']:\n",
    "    test = cat[cat['names'] == _]\n",
    "    temp = cosine_similarity(target.drop('names', axis = 1), test.drop('names', axis = 1))[0]\n",
    "    cat_scores.extend(temp)\n",
    "\n",
    "alg_rec['cat_scores'] = cat_scores"
   ]
  },
  {
   "cell_type": "code",
   "execution_count": 20,
   "metadata": {
    "collapsed": true
   },
   "outputs": [],
   "source": [
    "# Mechanic Score\n",
    "mech = pd.DataFrame(bgg.iloc[:,3])\n",
    "mech = mech.join(bgg.iloc[:,20:69])\n",
    "\n",
    "target= mech[mech['names'] == ui]\n",
    "mech_scores = []\n",
    "\n",
    "for _ in mech['names']:\n",
    "    test = mech[mech['names'] == _]\n",
    "    temp = cosine_similarity(target.drop('names', axis = 1), test.drop('names', axis = 1))[0]\n",
    "    mech_scores.extend(temp)\n",
    "    \n",
    "alg_rec['mech_scores'] = mech_scores"
   ]
  },
  {
   "cell_type": "code",
   "execution_count": 32,
   "metadata": {},
   "outputs": [
    {
     "data": {
      "text/plain": [
       "['Pandemic Legacy: Season 1',\n",
       " 'Pandemic: Reign of Cthulhu',\n",
       " 'Pandemic Iberia',\n",
       " 'Kings of Israel',\n",
       " 'Defenders of the Realm',\n",
       " 'Marvel Heroes',\n",
       " 'Black Orchestra',\n",
       " 'Mystery Express',\n",
       " 'Pandemic: The Cure',\n",
       " 'Train Heist']"
      ]
     },
     "execution_count": 32,
     "metadata": {},
     "output_type": "execute_result"
    }
   ],
   "source": [
    "# The Great Decider\n",
    "alg_rec['mech_scores'] = alg_rec['mech_scores'] * 2.0\n",
    "alg_rec['cat_scores'] = alg_rec['cat_scores'] * 1.5\n",
    "alg_rec['total'] = alg_rec ['user_score'] + alg_rec['cat_scores'] + alg_rec['mech_scores']\n",
    "rec = alg_rec.sort_values('total', ascending= False).head(20)\n",
    "rec = list(rec.index)\n",
    "rec[1:11]"
   ]
  },
  {
   "cell_type": "code",
   "execution_count": null,
   "metadata": {
    "collapsed": true
   },
   "outputs": [],
   "source": []
  },
  {
   "cell_type": "code",
   "execution_count": null,
   "metadata": {
    "collapsed": true
   },
   "outputs": [],
   "source": []
  }
 ],
 "metadata": {
  "kernelspec": {
   "display_name": "Python 3",
   "language": "python",
   "name": "python3"
  },
  "language_info": {
   "codemirror_mode": {
    "name": "ipython",
    "version": 3
   },
   "file_extension": ".py",
   "mimetype": "text/x-python",
   "name": "python",
   "nbconvert_exporter": "python",
   "pygments_lexer": "ipython3",
   "version": "3.6.1"
  }
 },
 "nbformat": 4,
 "nbformat_minor": 2
}
